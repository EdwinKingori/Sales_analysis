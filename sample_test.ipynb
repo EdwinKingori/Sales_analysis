{
 "cells": [
  {
   "cell_type": "code",
   "execution_count": 1,
   "id": "145be7a4",
   "metadata": {},
   "outputs": [
    {
     "name": "stdout",
     "output_type": "stream",
     "text": [
      "        InsertedDate  Year Month\n",
      "Spark     2018-08-14  2018    08\n",
      "PySpark   2019-10-17  2019    10\n",
      "Hadoop    2020-11-14  2020    11\n",
      "Python    2020-05-17  2020    05\n",
      "Pandas    2021-09-15  2021    09\n",
      "Hadoop    2021-12-14  2021    12\n"
     ]
    }
   ],
   "source": [
    "\n",
    "import pandas as pd\n",
    "import numpy as np\n",
    "import datetime\n",
    "Dates = [\"2018-08-14\",\"2019-10-17\",\"2020-11-14\",\"2020-05-17\",\"2021-09-15\",\"2021-12-14\"]\n",
    "Courses =[\"Spark\",\"PySpark\",\"Hadoop\",\"Python\",\"Pandas\",\"Hadoop\"]\n",
    "df = pd.DataFrame({'InsertedDate': pd.to_datetime(Dates)},index=Courses)\n",
    "\n",
    "# Use Datetime.strftime() Method to extract month and year\n",
    "df['Year'] = df['InsertedDate'].dt.strftime('%Y')\n",
    "df['Month'] = df['InsertedDate'].dt.strftime('%m')\n",
    "print(df)\n"
   ]
  },
  {
   "cell_type": "code",
   "execution_count": null,
   "id": "ec590b12",
   "metadata": {},
   "outputs": [],
   "source": []
  }
 ],
 "metadata": {
  "kernelspec": {
   "display_name": "Python 3 (ipykernel)",
   "language": "python",
   "name": "python3"
  },
  "language_info": {
   "codemirror_mode": {
    "name": "ipython",
    "version": 3
   },
   "file_extension": ".py",
   "mimetype": "text/x-python",
   "name": "python",
   "nbconvert_exporter": "python",
   "pygments_lexer": "ipython3",
   "version": "3.10.12"
  }
 },
 "nbformat": 4,
 "nbformat_minor": 5
}
